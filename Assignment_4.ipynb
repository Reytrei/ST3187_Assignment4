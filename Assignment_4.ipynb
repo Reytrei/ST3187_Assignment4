{
 "cells": [
  {
   "cell_type": "markdown",
   "id": "b5a12ed8",
   "metadata": {},
   "source": [
    "# Assignment 4"
   ]
  },
  {
   "cell_type": "markdown",
   "id": "0d56a88a",
   "metadata": {},
   "source": [
    "9. In this exercise, we will predict the number of applications received\n",
    "using the other variables in the College data set.\n",
    "\n",
    "(a) Split the data set into a training set and a test set."
   ]
  },
  {
   "cell_type": "code",
   "execution_count": 32,
   "id": "a735e61a",
   "metadata": {},
   "outputs": [],
   "source": [
    "import pandas as pd\n",
    "import numpy as np\n",
    "import matplotlib.pyplot as plt\n",
    "from sklearn.model_selection import train_test_split, GridSearchCV\n",
    "from sklearn.linear_model import LinearRegression, Ridge, Lasso\n",
    "from sklearn.compose import make_column_transformer\n",
    "from sklearn.preprocessing import OneHotEncoder\n",
    "from sklearn.metrics import mean_squared_error\n",
    "from sklearn.decomposition import PCA\n",
    "from sklearn.pipeline import make_pipeline\n",
    "from sklearn.preprocessing import StandardScaler\n",
    "from sklearn.cross_decomposition  import PLSRegression"
   ]
  },
  {
   "cell_type": "code",
   "execution_count": 3,
   "id": "ea81ee23",
   "metadata": {},
   "outputs": [],
   "source": [
    "url = \"https://www.statlearning.com/s/College.csv\"\n",
    "college = pd.read_csv(url)"
   ]
  },
  {
   "cell_type": "code",
   "execution_count": 4,
   "id": "a6ebf83f",
   "metadata": {},
   "outputs": [
    {
     "data": {
      "text/html": [
       "<div>\n",
       "<style scoped>\n",
       "    .dataframe tbody tr th:only-of-type {\n",
       "        vertical-align: middle;\n",
       "    }\n",
       "\n",
       "    .dataframe tbody tr th {\n",
       "        vertical-align: top;\n",
       "    }\n",
       "\n",
       "    .dataframe thead th {\n",
       "        text-align: right;\n",
       "    }\n",
       "</style>\n",
       "<table border=\"1\" class=\"dataframe\">\n",
       "  <thead>\n",
       "    <tr style=\"text-align: right;\">\n",
       "      <th></th>\n",
       "      <th>Private</th>\n",
       "      <th>Apps</th>\n",
       "      <th>Accept</th>\n",
       "      <th>Enroll</th>\n",
       "      <th>Top10perc</th>\n",
       "      <th>Top25perc</th>\n",
       "      <th>F.Undergrad</th>\n",
       "      <th>P.Undergrad</th>\n",
       "      <th>Outstate</th>\n",
       "      <th>Room.Board</th>\n",
       "      <th>Books</th>\n",
       "      <th>Personal</th>\n",
       "      <th>PhD</th>\n",
       "      <th>Terminal</th>\n",
       "      <th>S.F.Ratio</th>\n",
       "      <th>perc.alumni</th>\n",
       "      <th>Expend</th>\n",
       "      <th>Grad.Rate</th>\n",
       "    </tr>\n",
       "    <tr>\n",
       "      <th>Unnamed: 0</th>\n",
       "      <th></th>\n",
       "      <th></th>\n",
       "      <th></th>\n",
       "      <th></th>\n",
       "      <th></th>\n",
       "      <th></th>\n",
       "      <th></th>\n",
       "      <th></th>\n",
       "      <th></th>\n",
       "      <th></th>\n",
       "      <th></th>\n",
       "      <th></th>\n",
       "      <th></th>\n",
       "      <th></th>\n",
       "      <th></th>\n",
       "      <th></th>\n",
       "      <th></th>\n",
       "      <th></th>\n",
       "    </tr>\n",
       "  </thead>\n",
       "  <tbody>\n",
       "    <tr>\n",
       "      <th>Abilene Christian University</th>\n",
       "      <td>Yes</td>\n",
       "      <td>1660</td>\n",
       "      <td>1232</td>\n",
       "      <td>721</td>\n",
       "      <td>23</td>\n",
       "      <td>52</td>\n",
       "      <td>2885</td>\n",
       "      <td>537</td>\n",
       "      <td>7440</td>\n",
       "      <td>3300</td>\n",
       "      <td>450</td>\n",
       "      <td>2200</td>\n",
       "      <td>70</td>\n",
       "      <td>78</td>\n",
       "      <td>18.1</td>\n",
       "      <td>12</td>\n",
       "      <td>7041</td>\n",
       "      <td>60</td>\n",
       "    </tr>\n",
       "    <tr>\n",
       "      <th>Adelphi University</th>\n",
       "      <td>Yes</td>\n",
       "      <td>2186</td>\n",
       "      <td>1924</td>\n",
       "      <td>512</td>\n",
       "      <td>16</td>\n",
       "      <td>29</td>\n",
       "      <td>2683</td>\n",
       "      <td>1227</td>\n",
       "      <td>12280</td>\n",
       "      <td>6450</td>\n",
       "      <td>750</td>\n",
       "      <td>1500</td>\n",
       "      <td>29</td>\n",
       "      <td>30</td>\n",
       "      <td>12.2</td>\n",
       "      <td>16</td>\n",
       "      <td>10527</td>\n",
       "      <td>56</td>\n",
       "    </tr>\n",
       "    <tr>\n",
       "      <th>Adrian College</th>\n",
       "      <td>Yes</td>\n",
       "      <td>1428</td>\n",
       "      <td>1097</td>\n",
       "      <td>336</td>\n",
       "      <td>22</td>\n",
       "      <td>50</td>\n",
       "      <td>1036</td>\n",
       "      <td>99</td>\n",
       "      <td>11250</td>\n",
       "      <td>3750</td>\n",
       "      <td>400</td>\n",
       "      <td>1165</td>\n",
       "      <td>53</td>\n",
       "      <td>66</td>\n",
       "      <td>12.9</td>\n",
       "      <td>30</td>\n",
       "      <td>8735</td>\n",
       "      <td>54</td>\n",
       "    </tr>\n",
       "    <tr>\n",
       "      <th>Agnes Scott College</th>\n",
       "      <td>Yes</td>\n",
       "      <td>417</td>\n",
       "      <td>349</td>\n",
       "      <td>137</td>\n",
       "      <td>60</td>\n",
       "      <td>89</td>\n",
       "      <td>510</td>\n",
       "      <td>63</td>\n",
       "      <td>12960</td>\n",
       "      <td>5450</td>\n",
       "      <td>450</td>\n",
       "      <td>875</td>\n",
       "      <td>92</td>\n",
       "      <td>97</td>\n",
       "      <td>7.7</td>\n",
       "      <td>37</td>\n",
       "      <td>19016</td>\n",
       "      <td>59</td>\n",
       "    </tr>\n",
       "    <tr>\n",
       "      <th>Alaska Pacific University</th>\n",
       "      <td>Yes</td>\n",
       "      <td>193</td>\n",
       "      <td>146</td>\n",
       "      <td>55</td>\n",
       "      <td>16</td>\n",
       "      <td>44</td>\n",
       "      <td>249</td>\n",
       "      <td>869</td>\n",
       "      <td>7560</td>\n",
       "      <td>4120</td>\n",
       "      <td>800</td>\n",
       "      <td>1500</td>\n",
       "      <td>76</td>\n",
       "      <td>72</td>\n",
       "      <td>11.9</td>\n",
       "      <td>2</td>\n",
       "      <td>10922</td>\n",
       "      <td>15</td>\n",
       "    </tr>\n",
       "  </tbody>\n",
       "</table>\n",
       "</div>"
      ],
      "text/plain": [
       "                             Private  Apps  Accept  Enroll  Top10perc  \\\n",
       "Unnamed: 0                                                              \n",
       "Abilene Christian University     Yes  1660    1232     721         23   \n",
       "Adelphi University               Yes  2186    1924     512         16   \n",
       "Adrian College                   Yes  1428    1097     336         22   \n",
       "Agnes Scott College              Yes   417     349     137         60   \n",
       "Alaska Pacific University        Yes   193     146      55         16   \n",
       "\n",
       "                              Top25perc  F.Undergrad  P.Undergrad  Outstate  \\\n",
       "Unnamed: 0                                                                    \n",
       "Abilene Christian University         52         2885          537      7440   \n",
       "Adelphi University                   29         2683         1227     12280   \n",
       "Adrian College                       50         1036           99     11250   \n",
       "Agnes Scott College                  89          510           63     12960   \n",
       "Alaska Pacific University            44          249          869      7560   \n",
       "\n",
       "                              Room.Board  Books  Personal  PhD  Terminal  \\\n",
       "Unnamed: 0                                                                 \n",
       "Abilene Christian University        3300    450      2200   70        78   \n",
       "Adelphi University                  6450    750      1500   29        30   \n",
       "Adrian College                      3750    400      1165   53        66   \n",
       "Agnes Scott College                 5450    450       875   92        97   \n",
       "Alaska Pacific University           4120    800      1500   76        72   \n",
       "\n",
       "                              S.F.Ratio  perc.alumni  Expend  Grad.Rate  \n",
       "Unnamed: 0                                                               \n",
       "Abilene Christian University       18.1           12    7041         60  \n",
       "Adelphi University                 12.2           16   10527         56  \n",
       "Adrian College                     12.9           30    8735         54  \n",
       "Agnes Scott College                 7.7           37   19016         59  \n",
       "Alaska Pacific University          11.9            2   10922         15  "
      ]
     },
     "execution_count": 4,
     "metadata": {},
     "output_type": "execute_result"
    }
   ],
   "source": [
    "college = college.set_index(\"Unnamed: 0\")\n",
    "college.head()"
   ]
  },
  {
   "cell_type": "code",
   "execution_count": 5,
   "id": "31664541",
   "metadata": {},
   "outputs": [
    {
     "name": "stdout",
     "output_type": "stream",
     "text": [
      "<class 'pandas.core.frame.DataFrame'>\n",
      "Index: 777 entries, Abilene Christian University to York College of Pennsylvania\n",
      "Data columns (total 18 columns):\n",
      " #   Column       Non-Null Count  Dtype  \n",
      "---  ------       --------------  -----  \n",
      " 0   Private      777 non-null    object \n",
      " 1   Apps         777 non-null    int64  \n",
      " 2   Accept       777 non-null    int64  \n",
      " 3   Enroll       777 non-null    int64  \n",
      " 4   Top10perc    777 non-null    int64  \n",
      " 5   Top25perc    777 non-null    int64  \n",
      " 6   F.Undergrad  777 non-null    int64  \n",
      " 7   P.Undergrad  777 non-null    int64  \n",
      " 8   Outstate     777 non-null    int64  \n",
      " 9   Room.Board   777 non-null    int64  \n",
      " 10  Books        777 non-null    int64  \n",
      " 11  Personal     777 non-null    int64  \n",
      " 12  PhD          777 non-null    int64  \n",
      " 13  Terminal     777 non-null    int64  \n",
      " 14  S.F.Ratio    777 non-null    float64\n",
      " 15  perc.alumni  777 non-null    int64  \n",
      " 16  Expend       777 non-null    int64  \n",
      " 17  Grad.Rate    777 non-null    int64  \n",
      "dtypes: float64(1), int64(16), object(1)\n",
      "memory usage: 115.3+ KB\n"
     ]
    }
   ],
   "source": [
    "college.info()"
   ]
  },
  {
   "cell_type": "code",
   "execution_count": 6,
   "id": "db97507d",
   "metadata": {},
   "outputs": [],
   "source": [
    "X = college.drop('Apps', axis=1)\n",
    "y = college['Apps']\n",
    "\n",
    "# Encode the \"Private\" column with one-hot encoding\n",
    "ct = make_column_transformer((OneHotEncoder(drop='first'), ['Private']), remainder='passthrough')\n",
    "X = ct.fit_transform(X)\n",
    "\n",
    "# Split the dataset into training and testing sets\n",
    "X_train, X_test, y_train, y_test = train_test_split(X, y, test_size=0.2, random_state=100)"
   ]
  },
  {
   "cell_type": "markdown",
   "id": "2088e15d",
   "metadata": {},
   "source": [
    "(b) Fit a linear model using least squares on the training set, and\n",
    "report the test error obtained.\n"
   ]
  },
  {
   "cell_type": "code",
   "execution_count": 33,
   "id": "08d18223",
   "metadata": {},
   "outputs": [
    {
     "name": "stdout",
     "output_type": "stream",
     "text": [
      "MSE: 997160.231072354\n"
     ]
    }
   ],
   "source": [
    "#Fit linear regression\n",
    "reg = LinearRegression()\n",
    "reg.fit(X_train,y_train)\n",
    "#Calculate mse\n",
    "y_pred = reg.predict(X_test)\n",
    "mse = mean_squared_error(y_test, y_pred)\n",
    "print(f\"MSE: {mse}\")\n",
    "r_squared_linear = reg.score(X_test, y_test)"
   ]
  },
  {
   "cell_type": "markdown",
   "id": "6e918315",
   "metadata": {},
   "source": [
    "(c) Fit a ridge regression model on the training set, with λ chosen by cross-validation. Report the test error obtained."
   ]
  },
  {
   "cell_type": "code",
   "execution_count": 35,
   "id": "fa54ec19",
   "metadata": {},
   "outputs": [
    {
     "name": "stdout",
     "output_type": "stream",
     "text": [
      "Test MSE: 999687.2725784183\n"
     ]
    }
   ],
   "source": [
    "#Split dataset\n",
    "X_train, X_test, y_train, y_test, = train_test_split(X,y, test_size = 0.2, random_state = 100)\n",
    "#Fit ridge regression with alpha selected by cross validation\n",
    "param_grid = {'alpha': [0.01, 0.1, 1, 10, 100]}\n",
    "ridge = Ridge()\n",
    "grid_search = GridSearchCV(ridge, param_grid, cv = 5)\n",
    "grid_search.fit(X_train, y_train)\n",
    "best_alpha = grid_search.best_params_['alpha']\n",
    "ridge_reg = Ridge(alpha = best_alpha)\n",
    "ridge_reg.fit(X_train, y_train)\n",
    "#Evaluate de model\n",
    "y_pred = ridge_reg.predict(X_test)\n",
    "mse = mean_squared_error(y_test, y_pred)\n",
    "print(f\"Test MSE: {mse}\")\n",
    "r_squared_ridge = ridge_reg.score(X_test, y_test)"
   ]
  },
  {
   "cell_type": "markdown",
   "id": "1ec68c41",
   "metadata": {},
   "source": [
    "(d) Fit a lasso model on the training set, with λ chosen by crossvalidation. Report the test error obtained, along with the number of non-zero coefficient estimates."
   ]
  },
  {
   "cell_type": "code",
   "execution_count": 36,
   "id": "65db0af2",
   "metadata": {},
   "outputs": [
    {
     "name": "stdout",
     "output_type": "stream",
     "text": [
      "1014492.7399044434\n"
     ]
    }
   ],
   "source": [
    "#Fit Lasso regression with alpha selected by cross validation\n",
    "lasso = Lasso()\n",
    "grid_search = GridSearchCV(lasso, param_grid, cv = 5)\n",
    "grid_search.fit(X_train, y_train)\n",
    "best_alpha = grid_search.best_params_['alpha']\n",
    "lasso_reg = Lasso(alpha = best_alpha)\n",
    "lasso_reg.fit(X_train, y_train)\n",
    "#Evaluate model\n",
    "y_pred = lasso_reg.predict(X_test)\n",
    "mse = mean_squared_error(y_test, y_pred)\n",
    "print(mse)\n",
    "r_squared_lasso = lasso_reg.score(X_test, y_test)"
   ]
  },
  {
   "cell_type": "code",
   "execution_count": 22,
   "id": "9f41cc51",
   "metadata": {},
   "outputs": [
    {
     "name": "stdout",
     "output_type": "stream",
     "text": [
      "Non zero coefficients:15\n"
     ]
    }
   ],
   "source": [
    "#Print number of nonzero coefficients\n",
    "coef_nonzero = sum(lasso_reg.coef_ != 0)\n",
    "print( \"Non zero coefficients:\" + str(coef_nonzero))"
   ]
  },
  {
   "cell_type": "markdown",
   "id": "bf392462",
   "metadata": {},
   "source": [
    "(e) Fit a PCR model on the training set, with M chosen by crossvalidation. Report the test error obtained, along with the value of M selected by cross-validation."
   ]
  },
  {
   "cell_type": "code",
   "execution_count": 37,
   "id": "2c5b0fae",
   "metadata": {},
   "outputs": [
    {
     "name": "stdout",
     "output_type": "stream",
     "text": [
      "Optimal number of componets: 17\n",
      "Test error (MSE): 997160.2310723484\n"
     ]
    }
   ],
   "source": [
    "#Create pipleine for PCA preprocessing\n",
    "pipe = make_pipeline(StandardScaler(), PCA())\n",
    "param_grid = {'pca__n_components': range(1, X_train.shape[1]+1)}\n",
    "#Grid search for best parameter m\n",
    "grid_search = GridSearchCV(pipe, param_grid = param_grid, cv = 5)\n",
    "grid_search.fit(X_train)\n",
    "#Selecting and printing best parameter\n",
    "optimal_m = grid_search.best_params_['pca__n_components']\n",
    "print(\"Optimal number of componets:\", optimal_m)\n",
    "#fitting PCA with best parameter\n",
    "pipe = make_pipeline(StandardScaler(), PCA(n_components = optimal_m), LinearRegression() )\n",
    "pipe.fit(X_train, y_train)\n",
    "#Evaluating results\n",
    "y_pred = pipe.predict(X_test)\n",
    "mse = mean_squared_error(y_test, y_pred)\n",
    "print(\"Test error (MSE):\", mse)\n",
    "r_squared_pca = pipe.score(X_test, y_test)"
   ]
  },
  {
   "cell_type": "markdown",
   "id": "d970d0c9",
   "metadata": {},
   "source": [
    "(f) Fit a PLS model on the training set, with M chosen by crossvalidation. Report the test error obtained, along with the value of M selected by cross-validation."
   ]
  },
  {
   "cell_type": "code",
   "execution_count": 38,
   "id": "6d78d6bb",
   "metadata": {},
   "outputs": [
    {
     "name": "stdout",
     "output_type": "stream",
     "text": [
      "Optimal number of components: 13\n",
      "Test error: 1003795.5158703604\n"
     ]
    }
   ],
   "source": [
    "#Create pipeline and parameter grid\n",
    "pipe = make_pipeline(StandardScaler(), PLSRegression())\n",
    "param_grid = {'plsregression__n_components': range(1, X_train.shape[1]+1)}\n",
    "#Grid search for best parameter m\n",
    "grid_search = GridSearchCV(pipe, param_grid = param_grid, cv = 5)\n",
    "grid_search.fit(X_train, y_train)\n",
    "#Selecting and printing best parameter\n",
    "optimal_m = grid_search.best_params_['plsregression__n_components']\n",
    "print('Optimal number of components:', optimal_m)\n",
    "#Fitting a linear regression with best PLS parameter m\n",
    "pipe = make_pipeline(StandardScaler(), PLSRegression(n_components = optimal_m))\n",
    "pipe.fit(X_train, y_train)\n",
    "#Evaluate model\n",
    "y_pred = pipe.predict(X_test)\n",
    "mse = mean_squared_error(y_test, y_pred)\n",
    "print(\"Test error:\", mse)\n",
    "r_squared_pls = pipe.score(X_test, y_test)"
   ]
  },
  {
   "cell_type": "markdown",
   "id": "cbf4e7b7",
   "metadata": {},
   "source": [
    "(g) Comment on the results obtained. How accurately can we predict the number of college applications received? Is there much difference among the test errors resulting from these five approaches?"
   ]
  },
  {
   "cell_type": "code",
   "execution_count": 39,
   "id": "72c0f531",
   "metadata": {},
   "outputs": [
    {
     "data": {
      "image/png": "[encoded data removed]",
      "text/plain": [
       "<Figure size 1000x600 with 1 Axes>"
      ]
     },
     "metadata": {},
     "output_type": "display_data"
    }
   ],
   "source": [
    "models = ['Linear', 'Ridge', 'Lasso', 'PCA', 'PLS']\n",
    "r_squared_values = [r_squared_linear, r_squared_ridge, r_squared_lasso, r_squared_pca, r_squared_pls]\n",
    "colors = ['red', 'blue', 'green', 'orange', 'purple']\n",
    "\n",
    "plt.figure(figsize = (10,6))\n",
    "plt.bar(models,r_squared_values, color = colors)\n",
    "plt.title(\"Comparison of R-Squared values\")\n",
    "plt.xlabel('Regression model')\n",
    "plt.ylabel('R-Squared value')\n",
    "plt.show()"
   ]
  },
  {
   "cell_type": "markdown",
   "id": "958a960d",
   "metadata": {},
   "source": [
    "It looks like que can predict accurately with almost every model"
   ]
  },
  {
   "cell_type": "code",
   "execution_count": null,
   "id": "b8be964f",
   "metadata": {},
   "outputs": [],
   "source": []
  }
 ],
 "metadata": {
  "kernelspec": {
   "display_name": "Python 3 (ipykernel)",
   "language": "python",
   "name": "python3"
  },
  "language_info": {
   "codemirror_mode": {
    "name": "ipython",
    "version": 3
   },
   "file_extension": ".py",
   "mimetype": "text/x-python",
   "name": "python",
   "nbconvert_exporter": "python",
   "pygments_lexer": "ipython3",
   "version": "3.9.13"
  }
 },
 "nbformat": 4,
 "nbformat_minor": 5
}
